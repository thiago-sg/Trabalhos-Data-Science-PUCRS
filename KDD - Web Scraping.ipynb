{
 "cells": [
  {
   "cell_type": "markdown",
   "metadata": {},
   "source": [
    "# Exercícios Aula 6 - Thiago Garbin"
   ]
  },
  {
   "cell_type": "code",
   "execution_count": 11,
   "metadata": {},
   "outputs": [],
   "source": [
    "import numpy as np\n",
    "import pandas as pd\n",
    "from bs4 import BeautifulSoup\n",
    "from urllib.request import urlopen, urlretrieve, Request\n",
    "from urllib.error import URLError, HTTPError"
   ]
  },
  {
   "cell_type": "markdown",
   "metadata": {},
   "source": [
    "# Exercício 1 – Scraping da loja virtual"
   ]
  },
  {
   "cell_type": "code",
   "execution_count": 12,
   "metadata": {},
   "outputs": [],
   "source": [
    "# (https://www.cea.com.br/moda?filters=[]&pageNumber=1)\n",
    "# Na URL acima temos um catálogo de vendas online de roupas, acessórios, etc.\n",
    "# Vamos capturar as informações dos produtos que estão disponíveis no site e uma imagem de cada um\n",
    "# desses itens.\n",
    "# Objetivo final é obter um data frame que possua as seguintes informações:\n",
    "# • Nome do produto;\n",
    "# • Preço;\n",
    "# • Link que direcione para a página com os detalhes do produto;\n",
    "# • Nome da foto (referência para a foto que será capturada via download).\n",
    "# Observe que no final da página há um botão que navega para as páginas seguintes. Neste exercício,\n",
    "# queremos buscar todo o conteúdo disponível até a página 20.\n",
    "# A URL fornecida (acima) lista apenas os produtos da primeira página. Portanto será preciso modifica-la a\n",
    "# cada iteração, para buscar a próxima página.\n",
    "# Obs.: nessa atividade vamos usar o navegador Google Chrome."
   ]
  },
  {
   "cell_type": "markdown",
   "metadata": {},
   "source": [
    "### Passo-a-passo"
   ]
  },
  {
   "cell_type": "code",
   "execution_count": 13,
   "metadata": {},
   "outputs": [],
   "source": [
    "# 1. Abra o link no navegador e selecione a ferramenta de desenvolvedores (Menu > More Tools >\n",
    "# Developer Tools). Deixe-a aberta para as consultas ao longo do exercício."
   ]
  },
  {
   "cell_type": "code",
   "execution_count": 14,
   "metadata": {},
   "outputs": [],
   "source": [
    "# 2. Estabeleça a conexão com o site e crie o objeto html. Feito isso, crie o objeto BeautifulSoup\n",
    "# passando como parâmetro o html e indicando ‘html-parser’. Opcionalmente, antes de criar o\n",
    "# objeto BeautifulSoup aplique o método de tratamento de strings que vimos em aula.\n",
    "\n",
    "# O link passado originalmente retornava no web scraping apenas os resultados da primeira página,\n",
    "# mesmo quando era alterado o número da página ao final. Conversando com colegas, um deles descobriu\n",
    "# o link interno utilizado pelo javascript para carregar as diferentes páginas, o qual será então\n",
    "# utilizado no trabalho.\n",
    "\n",
    "# Depois de já enviado o trabalho, o professor postou no exemplo de aula como seria possível navegar\n",
    "# pelas páginas e obter as informações com o link original, com o uso de selenium, que cria um webdriver\n",
    "# faz um get das páginas. Ou seja, é como se estivesse usando o navegador.\n",
    "\n",
    "url = 'https://www.cea.com.br/buscapagina?fq=H%3a11633&O='\\\n",
    "'OrderByReleaseDateDESC&PS=48&sl=267cfeec-2b17-4122-9f04-c7abf8e5a82d&cc=1&sm=0&PageNumber=1'\n",
    "\n",
    "headers = {'User-Agent': 'Mozilla/5.0 (Windows NT 10.0; Win64; x64) AppleWebKit/537.36 '\\\n",
    "           '(KHTML, like Gecko) Chrome/76.0.3809.100 Safari/537.36'}\n",
    "\n",
    "req = Request(url, headers = headers)\n",
    "response = urlopen(req)\n",
    "html = response.read()"
   ]
  },
  {
   "cell_type": "code",
   "execution_count": 15,
   "metadata": {},
   "outputs": [
    {
     "data": {
      "text/plain": [
       "str"
      ]
     },
     "execution_count": 15,
     "metadata": {},
     "output_type": "execute_result"
    }
   ],
   "source": [
    "html = html.decode('utf-8')\n",
    "type(html)"
   ]
  },
  {
   "cell_type": "code",
   "execution_count": 16,
   "metadata": {},
   "outputs": [],
   "source": [
    "def prep_html(text):\n",
    "    return \" \".join(html.split()).replace('> <','><')"
   ]
  },
  {
   "cell_type": "code",
   "execution_count": 17,
   "metadata": {},
   "outputs": [],
   "source": [
    "html = prep_html(html)"
   ]
  },
  {
   "cell_type": "code",
   "execution_count": 18,
   "metadata": {},
   "outputs": [
    {
     "name": "stdout",
     "output_type": "stream",
     "text": [
      "<html>\n",
      " <head>\n",
      "  <meta content=\"NOINDEX, FOLLOW\" name=\"ROBOTS\"/>\n",
      " </head>\n",
      " <body>\n",
      "  <div class=\"res-prateleira-vitrine-v3 n1colunas\">\n",
      "   <ul>\n",
      "    <li class=\"moda-feminina--roupas-blusas-vestidos-saias-jaquetas-|-c-a last\" layout=\"267cfeec-2b17-4122-9f04-c7abf8e5a82d\">\n",
      "     <div class=\"product-image\" data-productid=\"3349712\">\n",
      "      <figure>\n",
      "       <a class=\"product-image_link\" href=\"https://www.cea.com.br/camiseta-feminina-manga-curta--tropicaya--decote-redondo-preta-9990245-preto/p\" title='Camiseta Feminina Manga Curta \"Tropicaya\" Decote Redondo Preta'>\n",
      "        <script class=\"product-image_main\" type=\"text/html\">\n",
      "         <img src=\"https://cea.vteximg.com.br/arquivos/ids/34958501-463-556/Camiseta-Feminina-Manga-Curta--Tropicaya--Decote-Redondo-Preta-9990245-Preto_1.jpg?v=637520141442830000\" width=\"463\" height=\"556\" alt=\"Camiseta-Feminina-Manga-Curta--Tropicaya--Decote-Redondo-Preta-9990245-Preto_1\" id=\"\" />\n",
      "        </script>\n",
      "        <noscript>\n",
      "         <img alt=\"Camiseta-Feminina-Manga-Curta--Tropicaya--Decote-Redondo-Preta-9990245-Preto_1\" height=\"556\" id=\"\" src=\"https://cea.vteximg.com.br/arquivos/ids/34958501-463-556/Camiseta-Feminina-Manga-Curta--Tropicaya--Decote-Redondo-Preta-9990245-Preto_1.jpg?v=637520141442830000\" width=\"463\"/>\n",
      "        </noscript>\n",
      "        <script class=\"product-image_link_hover\" type=\"text/html\">\n",
      "         <img src=\"https://cea.vteximg.com.br/arquivos/ids/34958502-463-556/Camiseta-Feminina-Manga-Curta--Tropicaya--Decote-Redondo-Preta-9990245-Preto_2.jpg?v=637520141447030000\" width=\"463\" height=\"556\" alt=\"Camiseta-Feminina-Manga-Curta--Tropicaya--Decote-Redondo-Preta-9990245-Preto_2\" id=\"\" />\n",
      "        </script>\n",
      "        <script class=\"product-image_third\" type=\"text/html\">\n",
      "         <img src=\"https://cea.vteximg.com.br/arquivos/ids/34958503-463-556/Camiseta-Feminina-Manga-Curta--Tropicaya--Decote-Redondo-Preta-9990245-Preto_3.jpg?v=637520141450000000\" width=\"463\" height=\"556\" alt=\"Camiseta-Feminina-Manga-Curta--Tropicaya--Decote-Redondo-Preta-99\n"
     ]
    }
   ],
   "source": [
    "soup = BeautifulSoup(html, 'html.parser')\n",
    "\n",
    "print(soup.prettify()[:2000])"
   ]
  },
  {
   "cell_type": "code",
   "execution_count": 19,
   "metadata": {},
   "outputs": [],
   "source": [
    "# 3. Navegue no objeto soup para encontrar as informações (nome do produto, preço e link).\n",
    "# Encontre também uma forma de localizar a imagem do produto."
   ]
  },
  {
   "cell_type": "code",
   "execution_count": 20,
   "metadata": {},
   "outputs": [
    {
     "data": {
      "text/plain": [
       "<div class=\"product-details\" data-productid=\"3349712\"><a class=\"product-details_name\" href=\"https://www.cea.com.br/camiseta-feminina-manga-curta--tropicaya--decote-redondo-preta-9990245-preto/p\" title='Camiseta Feminina Manga Curta \"Tropicaya\" Decote Redondo Preta'><strong>Camiseta Feminina Manga Curta \"Tropicaya\" Decote Redondo Preta </strong></a><div class=\"product-flag-discount-list\" style=\"display:none;\"><p class=\"flag id-11671--promo-combo-blusas-femininas\">id-11671--promo-Combo-blusas-femininas</p></div><div class=\"product-details_prices product-details_prices_ab\"><a href=\"https://www.cea.com.br/camiseta-feminina-manga-curta--tropicaya--decote-redondo-preta-9990245-preto/p\" title='Camiseta Feminina Manga Curta \"Tropicaya\" Decote Redondo Preta'><span class=\"product-details_prices--parcel price-highlight\"> em até <br/><strong>3x</strong> de <strong>R$ 8,66</strong><br/><span class=\"price-disclaimer\">no cartão C&amp;A <strong>sem juros</strong></span></span><strong class=\"product-details_prices--to\">ou <span>R$ 25,99</span> à vista</strong></a></div></div>"
      ]
     },
     "execution_count": 20,
     "metadata": {},
     "output_type": "execute_result"
    }
   ],
   "source": [
    "soup.find('div', attrs={'class':'product-details'})"
   ]
  },
  {
   "cell_type": "code",
   "execution_count": 21,
   "metadata": {},
   "outputs": [
    {
     "data": {
      "text/plain": [
       "'Camiseta Feminina Manga Curta \"Tropicaya\" Decote Redondo Preta\\xa0id-11671--promo-Combo-blusas-femininas em até 3x de R$ 8,66no cartão C&A sem jurosou R$ 25,99 à vista'"
      ]
     },
     "execution_count": 21,
     "metadata": {},
     "output_type": "execute_result"
    }
   ],
   "source": [
    "soup.find('div', attrs={'class':'product-details'}).get_text()"
   ]
  },
  {
   "cell_type": "code",
   "execution_count": 22,
   "metadata": {},
   "outputs": [
    {
     "data": {
      "text/plain": [
       "'Camiseta Feminina Manga Curta \"Tropicaya\" Decote Redondo Preta'"
      ]
     },
     "execution_count": 22,
     "metadata": {},
     "output_type": "execute_result"
    }
   ],
   "source": [
    "soup.find('a', attrs={'class':'product-details_name'}).text[:-1]"
   ]
  },
  {
   "cell_type": "code",
   "execution_count": 23,
   "metadata": {},
   "outputs": [
    {
     "data": {
      "text/plain": [
       "'R$ 25,99'"
      ]
     },
     "execution_count": 23,
     "metadata": {},
     "output_type": "execute_result"
    }
   ],
   "source": [
    "soup.find('strong', attrs={'class':'product-details_prices--to'}).find('span').text"
   ]
  },
  {
   "cell_type": "code",
   "execution_count": 24,
   "metadata": {},
   "outputs": [
    {
     "data": {
      "text/plain": [
       "'www.cea.com.br/camiseta-feminina-manga-curta--tropicaya--decote-redondo-preta-9990245-preto/p'"
      ]
     },
     "execution_count": 24,
     "metadata": {},
     "output_type": "execute_result"
    }
   ],
   "source": [
    "soup.find('div', attrs={'class':'product-flags'}).a.get('href').replace('https://','')"
   ]
  },
  {
   "cell_type": "code",
   "execution_count": 25,
   "metadata": {},
   "outputs": [
    {
     "data": {
      "text/plain": [
       "'https://cea.vteximg.com.br/arquivos/ids/34958501-463-556/Camiseta-Feminina-Manga-Curta--Tropicaya--Decote-Redondo-Preta-9990245-Preto_1.jpg'"
      ]
     },
     "execution_count": 25,
     "metadata": {},
     "output_type": "execute_result"
    }
   ],
   "source": [
    "soup.find('div', attrs={'class':'product-image'}).img.get('src').split('?v=')[0]"
   ]
  },
  {
   "cell_type": "code",
   "execution_count": 26,
   "metadata": {},
   "outputs": [],
   "source": [
    "# 4. Da mesma forma como fizemos em aula, crie um laço que execute a extração sobre cada um dos\n",
    "# itens da página, incluindo o download de cada imagem. Por fora desse laço, crie outro que faça a\n",
    "# iteração das páginas (de 1 a 20).\n",
    "\n",
    "# Dicas:\n",
    "# • O nome da foto que será mantido no data frame final e no arquivo local pode ser uma número\n",
    "# incremental (aproveite o laço de repetição externo para formar esse nome).\n",
    "# • Alguns valores de atributos do HTML podem apresentar vários espaços no final da string.\n",
    "# Atente-se, pois em alguns casos será preciso retirar esses espaços para que o método find e\n",
    "# findAll funcione corretamente.\n",
    "\n",
    "anuncios=[]\n",
    "\n",
    "nro_foto = 0\n",
    "\n",
    "paginas = 20\n",
    "\n",
    "for pagina in range(1, paginas+1):\n",
    "\n",
    "    url = 'https://www.cea.com.br/buscapagina?fq=H%3a11633&O='\\\n",
    "    'OrderByReleaseDateDESC&PS=48&sl=267cfeec-2b17-4122-9f04-c7abf8e5a82d&cc=1&sm=0&PageNumber='\\\n",
    "    + str(pagina)\n",
    "    \n",
    "    headers = {'User-Agent': 'Mozilla/5.0 (Windows NT 10.0; Win64; x64) AppleWebKit/537.36 '\\\n",
    "               '(KHTML, like Gecko) Chrome/76.0.3809.100 Safari/537.36'}\n",
    "\n",
    "    req = Request(url, headers = headers)\n",
    "    response = urlopen(req)\n",
    "    html = response.read()\n",
    "\n",
    "    html = html.decode('utf-8')\n",
    "\n",
    "    html = prep_html(html)\n",
    "    \n",
    "    soup = BeautifulSoup(html, 'html.parser')    \n",
    "\n",
    "    for i in soup.findAll('li', attrs={'layout':'267cfeec-2b17-4122-9f04-c7abf8e5a82d'}):\n",
    "        \n",
    "        produto = i.find('a', attrs={'class':'product-details_name'}).text[:-1]\n",
    "        preco = i.find('strong', attrs={'class':'product-details_prices--to'}).span.text\n",
    "        link = i.find('div', attrs={'class':'product-flags'}).a.get('href').replace('https://','')\n",
    "        foto= i.find('div', attrs={'class':'product-image'}).img.get('src').split('?v=')[0]\n",
    "\n",
    "        nro_foto += 1\n",
    "\n",
    "        anuncio=[]\n",
    "\n",
    "        anuncio.append(produto)\n",
    "        anuncio.append(preco)\n",
    "        anuncio.append(link)\n",
    "        anuncio.append('foto_item_' + str(nro_foto) + '.jpg')\n",
    "\n",
    "        urlretrieve(foto, './fotos/' + 'foto_item_' + str(nro_foto) + '.jpg')\n",
    "\n",
    "        anuncios.append(anuncio)"
   ]
  },
  {
   "cell_type": "code",
   "execution_count": 27,
   "metadata": {},
   "outputs": [
    {
     "data": {
      "text/html": [
       "<div>\n",
       "<style scoped>\n",
       "    .dataframe tbody tr th:only-of-type {\n",
       "        vertical-align: middle;\n",
       "    }\n",
       "\n",
       "    .dataframe tbody tr th {\n",
       "        vertical-align: top;\n",
       "    }\n",
       "\n",
       "    .dataframe thead th {\n",
       "        text-align: right;\n",
       "    }\n",
       "</style>\n",
       "<table border=\"1\" class=\"dataframe\">\n",
       "  <thead>\n",
       "    <tr style=\"text-align: right;\">\n",
       "      <th></th>\n",
       "      <th>Produto</th>\n",
       "      <th>Preco</th>\n",
       "      <th>Link</th>\n",
       "      <th>Nome_Foto</th>\n",
       "    </tr>\n",
       "  </thead>\n",
       "  <tbody>\n",
       "    <tr>\n",
       "      <th>0</th>\n",
       "      <td>Camiseta Feminina Manga Curta \"Tropicaya\" Deco...</td>\n",
       "      <td>R$ 25,99</td>\n",
       "      <td>www.cea.com.br/camiseta-feminina-manga-curta--...</td>\n",
       "      <td>foto_item_1.jpg</td>\n",
       "    </tr>\n",
       "    <tr>\n",
       "      <th>1</th>\n",
       "      <td>Short de Moletom Feminino Cintura Alta com Rec...</td>\n",
       "      <td>R$ 59,99</td>\n",
       "      <td>www.cea.com.br/short-de-moletom-feminino-cintu...</td>\n",
       "      <td>foto_item_2.jpg</td>\n",
       "    </tr>\n",
       "    <tr>\n",
       "      <th>2</th>\n",
       "      <td>Calça Feminina Carrot Cintura Alta Alfaiataria...</td>\n",
       "      <td>R$ 139,99</td>\n",
       "      <td>www.cea.com.br/calca-feminina-carrot-cintura-a...</td>\n",
       "      <td>foto_item_3.jpg</td>\n",
       "    </tr>\n",
       "    <tr>\n",
       "      <th>3</th>\n",
       "      <td>Body Infantil Manga Curta Listrado com Babados...</td>\n",
       "      <td>R$ 35,99</td>\n",
       "      <td>www.cea.com.br/body-infantil-manga-curta-listr...</td>\n",
       "      <td>foto_item_4.jpg</td>\n",
       "    </tr>\n",
       "    <tr>\n",
       "      <th>4</th>\n",
       "      <td>Macaquinho Infantil Estampado de Corações Alça...</td>\n",
       "      <td>R$ 49,99</td>\n",
       "      <td>www.cea.com.br/macaquinho-infantil-estampado-d...</td>\n",
       "      <td>foto_item_5.jpg</td>\n",
       "    </tr>\n",
       "    <tr>\n",
       "      <th>...</th>\n",
       "      <td>...</td>\n",
       "      <td>...</td>\n",
       "      <td>...</td>\n",
       "      <td>...</td>\n",
       "    </tr>\n",
       "    <tr>\n",
       "      <th>955</th>\n",
       "      <td>Calça Legging Infantil com Glitter Lilás</td>\n",
       "      <td>R$ 29,99</td>\n",
       "      <td>www.cea.com.br/calca-legging-infantil-com-glit...</td>\n",
       "      <td>foto_item_956.jpg</td>\n",
       "    </tr>\n",
       "    <tr>\n",
       "      <th>956</th>\n",
       "      <td>Calça Legging Infantil com Glitter Verde</td>\n",
       "      <td>R$ 29,99</td>\n",
       "      <td>www.cea.com.br/calca-legging-infantil-com-glit...</td>\n",
       "      <td>foto_item_957.jpg</td>\n",
       "    </tr>\n",
       "    <tr>\n",
       "      <th>957</th>\n",
       "      <td>Short Saia Infantil Listrado com Corações Off ...</td>\n",
       "      <td>R$ 39,99</td>\n",
       "      <td>www.cea.com.br/short-saia-infantil-listrado-co...</td>\n",
       "      <td>foto_item_958.jpg</td>\n",
       "    </tr>\n",
       "    <tr>\n",
       "      <th>958</th>\n",
       "      <td>Short Saia Infantil Estampado Arco-Íris com Gl...</td>\n",
       "      <td>R$ 39,99</td>\n",
       "      <td>www.cea.com.br/short-saia-infantil-estampado-a...</td>\n",
       "      <td>foto_item_959.jpg</td>\n",
       "    </tr>\n",
       "    <tr>\n",
       "      <th>959</th>\n",
       "      <td>Camiseta Infantil Básica Manga Longa Cinza Mescla</td>\n",
       "      <td>R$ 25,99</td>\n",
       "      <td>www.cea.com.br/camiseta-infantil-basica-manga-...</td>\n",
       "      <td>foto_item_960.jpg</td>\n",
       "    </tr>\n",
       "  </tbody>\n",
       "</table>\n",
       "<p>960 rows × 4 columns</p>\n",
       "</div>"
      ],
      "text/plain": [
       "                                               Produto      Preco  \\\n",
       "0    Camiseta Feminina Manga Curta \"Tropicaya\" Deco...   R$ 25,99   \n",
       "1    Short de Moletom Feminino Cintura Alta com Rec...   R$ 59,99   \n",
       "2    Calça Feminina Carrot Cintura Alta Alfaiataria...  R$ 139,99   \n",
       "3    Body Infantil Manga Curta Listrado com Babados...   R$ 35,99   \n",
       "4    Macaquinho Infantil Estampado de Corações Alça...   R$ 49,99   \n",
       "..                                                 ...        ...   \n",
       "955           Calça Legging Infantil com Glitter Lilás   R$ 29,99   \n",
       "956           Calça Legging Infantil com Glitter Verde   R$ 29,99   \n",
       "957  Short Saia Infantil Listrado com Corações Off ...   R$ 39,99   \n",
       "958  Short Saia Infantil Estampado Arco-Íris com Gl...   R$ 39,99   \n",
       "959  Camiseta Infantil Básica Manga Longa Cinza Mescla   R$ 25,99   \n",
       "\n",
       "                                                  Link          Nome_Foto  \n",
       "0    www.cea.com.br/camiseta-feminina-manga-curta--...    foto_item_1.jpg  \n",
       "1    www.cea.com.br/short-de-moletom-feminino-cintu...    foto_item_2.jpg  \n",
       "2    www.cea.com.br/calca-feminina-carrot-cintura-a...    foto_item_3.jpg  \n",
       "3    www.cea.com.br/body-infantil-manga-curta-listr...    foto_item_4.jpg  \n",
       "4    www.cea.com.br/macaquinho-infantil-estampado-d...    foto_item_5.jpg  \n",
       "..                                                 ...                ...  \n",
       "955  www.cea.com.br/calca-legging-infantil-com-glit...  foto_item_956.jpg  \n",
       "956  www.cea.com.br/calca-legging-infantil-com-glit...  foto_item_957.jpg  \n",
       "957  www.cea.com.br/short-saia-infantil-listrado-co...  foto_item_958.jpg  \n",
       "958  www.cea.com.br/short-saia-infantil-estampado-a...  foto_item_959.jpg  \n",
       "959  www.cea.com.br/camiseta-infantil-basica-manga-...  foto_item_960.jpg  \n",
       "\n",
       "[960 rows x 4 columns]"
      ]
     },
     "execution_count": 27,
     "metadata": {},
     "output_type": "execute_result"
    }
   ],
   "source": [
    "df = pd.DataFrame(anuncios, columns=['Produto','Preco', 'Link', 'Nome_Foto'])\n",
    "\n",
    "df"
   ]
  },
  {
   "cell_type": "code",
   "execution_count": 28,
   "metadata": {},
   "outputs": [
    {
     "data": {
      "text/plain": [
       "'Camisa Masculina Tradicional Estampada de Folhagem com Linho Manga Curta Branca'"
      ]
     },
     "execution_count": 28,
     "metadata": {},
     "output_type": "execute_result"
    }
   ],
   "source": [
    "df['Produto'][456]"
   ]
  },
  {
   "cell_type": "code",
   "execution_count": 29,
   "metadata": {},
   "outputs": [
    {
     "data": {
      "text/plain": [
       "'R$ 119,99'"
      ]
     },
     "execution_count": 29,
     "metadata": {},
     "output_type": "execute_result"
    }
   ],
   "source": [
    "df['Preco'][456]"
   ]
  },
  {
   "cell_type": "code",
   "execution_count": 30,
   "metadata": {},
   "outputs": [
    {
     "data": {
      "text/plain": [
       "'www.cea.com.br/camisa-masculina-tradicional-estampada-de-folhagem-com-linho-manga-curta-branca-9982807-branco/p'"
      ]
     },
     "execution_count": 30,
     "metadata": {},
     "output_type": "execute_result"
    }
   ],
   "source": [
    "df['Link'][456]"
   ]
  },
  {
   "cell_type": "code",
   "execution_count": 31,
   "metadata": {},
   "outputs": [
    {
     "data": {
      "text/plain": [
       "'foto_item_457.jpg'"
      ]
     },
     "execution_count": 31,
     "metadata": {},
     "output_type": "execute_result"
    }
   ],
   "source": [
    "df['Nome_Foto'][456]"
   ]
  }
 ],
 "metadata": {
  "kernelspec": {
   "display_name": "Python 3",
   "language": "python",
   "name": "python3"
  },
  "language_info": {
   "codemirror_mode": {
    "name": "ipython",
    "version": 3
   },
   "file_extension": ".py",
   "mimetype": "text/x-python",
   "name": "python",
   "nbconvert_exporter": "python",
   "pygments_lexer": "ipython3",
   "version": "3.7.6"
  }
 },
 "nbformat": 4,
 "nbformat_minor": 4
}
